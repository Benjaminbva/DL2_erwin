{
 "cells": [
  {
   "cell_type": "markdown",
   "metadata": {},
   "source": [
    "# Experiments"
   ]
  },
  {
   "cell_type": "markdown",
   "metadata": {},
   "source": [
    "## Erwin"
   ]
  },
  {
   "cell_type": "markdown",
   "metadata": {},
   "source": [
    "### Base"
   ]
  },
  {
   "cell_type": "markdown",
   "metadata": {},
   "source": [
    "Erwin without MPNN or Rotating tree"
   ]
  },
  {
   "cell_type": "code",
   "execution_count": null,
   "metadata": {},
   "outputs": [],
   "source": [
    "model       = \"erwin\"\n",
    "data_path   = \"./data/cosmology\"\n",
    "size        = \"smallish\"\n",
    "num_epochs  = 5000\n",
    "batch_size  = 8\n",
    "experiment  = \"\"\n",
    "\n",
    "seeds = [0,1,2]\n",
    "for seed in seeds:\n",
    "    print(f\"▶ Running experiment {experiment} with seed={seed}\")\n",
    "    !python ./experiments/train_cosmology.py \\\n",
    "        --model       {model} \\\n",
    "        --data-path   {data_path} \\\n",
    "        --size        {size} \\\n",
    "        --num-epochs  {num_epochs} \\\n",
    "        --batch-size  {batch_size} \\\n",
    "        --experiment  {experiment} \\\n",
    "        --seed        {seed}"
   ]
  },
  {
   "cell_type": "markdown",
   "metadata": {},
   "source": [
    "### + MPNN"
   ]
  },
  {
   "cell_type": "markdown",
   "metadata": {},
   "source": [
    "Erwin with an MPNN that takes 3 steps"
   ]
  },
  {
   "cell_type": "code",
   "execution_count": null,
   "metadata": {},
   "outputs": [],
   "source": [
    "model       = \"erwin\"\n",
    "data_path   = \"./data/cosmology\"\n",
    "size        = \"smallish\"\n",
    "num_epochs  = 5000\n",
    "batch_size  = 8\n",
    "experiment  = \"MPNN\"\n",
    "\n",
    "seeds = [0,1,2]\n",
    "for seed in seeds:\n",
    "    print(f\"▶ Running experiment {experiment} with seed={seed}\")\n",
    "    !python ./experiments/train_cosmology.py \\\n",
    "        --model       {model} \\\n",
    "        --data-path   {data_path} \\\n",
    "        --size        {size} \\\n",
    "        --num-epochs  {num_epochs} \\\n",
    "        --batch-size  {batch_size} \\\n",
    "        --experiment  {experiment} \\\n",
    "        --seed        {seed} \\\n",
    "        --mpsteps 3"
   ]
  },
  {
   "cell_type": "markdown",
   "metadata": {},
   "source": [
    "### + Rotating tree"
   ]
  },
  {
   "cell_type": "markdown",
   "metadata": {},
   "source": [
    "Erwin + MPNN + Rotating tree"
   ]
  },
  {
   "cell_type": "code",
   "execution_count": null,
   "metadata": {},
   "outputs": [],
   "source": [
    "model       = \"erwin\"\n",
    "data_path   = \"./data/cosmology\"\n",
    "size        = \"smallish\"\n",
    "num_epochs  = 5000\n",
    "batch_size  = 8\n",
    "experiment  = \"MPNN_RotatingTree\"\n",
    "\n",
    "seeds = [0,1,2]\n",
    "for seed in seeds:\n",
    "    print(f\"▶ Running experiment {experiment} with seed={seed}\")\n",
    "    !python ./experiments/train_cosmology.py \\\n",
    "        --model       {model} \\\n",
    "        --data-path   {data_path} \\\n",
    "        --size        {size} \\\n",
    "        --num-epochs  {num_epochs} \\\n",
    "        --batch-size  {batch_size} \\\n",
    "        --experiment  {experiment} \\\n",
    "        --seed        {seed} \\\n",
    "        --mpsteps 3 \\\n",
    "        --rotate 90"
   ]
  },
  {
   "cell_type": "markdown",
   "metadata": {},
   "source": [
    "## InvErwin"
   ]
  },
  {
   "cell_type": "markdown",
   "metadata": {},
   "source": [
    "### Eq. 9"
   ]
  },
  {
   "cell_type": "markdown",
   "metadata": {},
   "source": [
    "We fix equation 9 from the original erwin paper to be invariant by using the norm of the distance."
   ]
  },
  {
   "cell_type": "code",
   "execution_count": null,
   "metadata": {},
   "outputs": [],
   "source": [
    "model       = \"erwin\"\n",
    "data_path   = \"./data/cosmology\"\n",
    "size        = \"smallish\"\n",
    "num_epochs  = 5000\n",
    "batch_size  = 8\n",
    "experiment  = \"inv_eq9_fixed_tree\"\n",
    "\n",
    "seeds = [0,1,2]\n",
    "for seed in seeds:\n",
    "    print(f\"▶ Running experiment {experiment} with seed={seed}\")\n",
    "    !python ./experiments/train_cosmology.py \\\n",
    "        --model       {model} \\\n",
    "        --data-path   {data_path} \\\n",
    "        --size        {size} \\\n",
    "        --num-epochs  {num_epochs} \\\n",
    "        --batch-size  {batch_size} \\\n",
    "        --experiment  {experiment} \\\n",
    "        --seed        {seed} \\\n",
    "        --mpsteps 3 \\\n",
    "        --rotate 90 \\\n",
    "        --eq-9"
   ]
  },
  {
   "cell_type": "markdown",
   "metadata": {},
   "source": [
    "### Eq. 12"
   ]
  },
  {
   "cell_type": "markdown",
   "metadata": {},
   "source": [
    "We fix equation 12 from the original erwin paper to be invariant by using the norm of the distance."
   ]
  },
  {
   "cell_type": "code",
   "execution_count": null,
   "metadata": {},
   "outputs": [],
   "source": [
    "model       = \"erwin\"\n",
    "data_path   = \"./data/cosmology\"\n",
    "size        = \"smallish\"\n",
    "num_epochs  = 5000\n",
    "batch_size  = 8\n",
    "experiment  = \"inv_eq9_eq12\"\n",
    "\n",
    "seeds = [1,2]\n",
    "for seed in seeds:\n",
    "    print(f\"▶ Running experiment {experiment} with seed={seed}\")\n",
    "    !python ./experiments/train_cosmology.py \\\n",
    "        --model       {model} \\\n",
    "        --data-path   {data_path} \\\n",
    "        --size        {size} \\\n",
    "        --num-epochs  {num_epochs} \\\n",
    "        --batch-size  {batch_size} \\\n",
    "        --experiment  {experiment} \\\n",
    "        --seed        {seed} \\\n",
    "        --mpsteps 3 \\\n",
    "        --rotate 90 \\\n",
    "        --eq-9 \\\n",
    "        --eq-12"
   ]
  },
  {
   "cell_type": "markdown",
   "metadata": {},
   "source": [
    "### Eq. 13"
   ]
  },
  {
   "cell_type": "markdown",
   "metadata": {},
   "source": [
    "We fix equation 13 from the original erwin paper to be invariant by using the norm of the distance."
   ]
  },
  {
   "cell_type": "code",
   "execution_count": null,
   "metadata": {},
   "outputs": [],
   "source": [
    "model       = \"erwin\"\n",
    "data_path   = \"./data/cosmology\"\n",
    "size        = \"smallish\"\n",
    "num_epochs  = 5000\n",
    "batch_size  = 8\n",
    "experiment  = \"inv_eq9_eq12_eq13\"\n",
    "\n",
    "seeds = [1,2]\n",
    "for seed in seeds:\n",
    "    print(f\"▶ Running experiment {experiment} with seed={seed}\")\n",
    "    !python ./experiments/train_cosmology.py \\\n",
    "        --model       {model} \\\n",
    "        --data-path   {data_path} \\\n",
    "        --size        {size} \\\n",
    "        --num-epochs  {num_epochs} \\\n",
    "        --batch-size  {batch_size} \\\n",
    "        --experiment  {experiment} \\\n",
    "        --seed        {seed} \\\n",
    "        --mpsteps 3 \\\n",
    "        --rotate 90 \\\n",
    "        --eq-9 \\\n",
    "        --eq-12 \\\n",
    "        --eq-13"
   ]
  },
  {
   "cell_type": "markdown",
   "metadata": {},
   "source": [
    "## GATrErwin"
   ]
  },
  {
   "cell_type": "markdown",
   "metadata": {},
   "source": [
    "### Preliminary tests"
   ]
  },
  {
   "cell_type": "markdown",
   "metadata": {},
   "source": [
    "#### Optimal Fixed configs"
   ]
  },
  {
   "cell_type": "markdown",
   "metadata": {},
   "source": [
    "Reference multivector calculated from data \\\n",
    "geo mlp ratio 2 \\\n",
    "rbf 256"
   ]
  },
  {
   "cell_type": "markdown",
   "metadata": {},
   "source": [
    "#### Basic GATr Erwin"
   ]
  },
  {
   "cell_type": "markdown",
   "metadata": {},
   "source": [
    "The basic erwin architecture translated in the GATr framework"
   ]
  },
  {
   "cell_type": "code",
   "execution_count": null,
   "metadata": {},
   "outputs": [],
   "source": [
    "model       = \"GATrErwin\"\n",
    "data_path   = \"./data/cosmology\"\n",
    "size        = \"smallest\"\n",
    "num_epochs  = 3000\n",
    "batch_size  = 4\n",
    "experiment  = \"\"\n",
    "\n",
    "seeds = [0,1,2]\n",
    "for seed in seeds:\n",
    "    print(f\"▶ Running experiment {experiment} with seed={seed}\")\n",
    "    !python ./experiments/train_cosmology.py \\\n",
    "        --model       {model} \\\n",
    "        --data-path   {data_path} \\\n",
    "        --size        {size} \\\n",
    "        --num-epochs  {num_epochs} \\\n",
    "        --batch-size  {batch_size} \\\n",
    "        --experiment  {experiment} \\\n",
    "        --seed        {seed}\n"
   ]
  },
  {
   "cell_type": "markdown",
   "metadata": {},
   "source": [
    "#### + Translation Embeddings"
   ]
  },
  {
   "cell_type": "markdown",
   "metadata": {},
   "source": [
    "Instead of embedding relative positions as points using trivectors we embed them as translations, therefore bivectors in projective geometric algebra"
   ]
  },
  {
   "cell_type": "code",
   "execution_count": null,
   "metadata": {},
   "outputs": [],
   "source": [
    "model       = \"GATrErwin\"\n",
    "data_path   = \"./data/cosmology\"\n",
    "size        = \"smallest\"\n",
    "num_epochs  = 3000\n",
    "batch_size  = 4\n",
    "experiment  = \"TranslationEmbeddings\"\n",
    "\n",
    "seeds = [0,1,2]\n",
    "for seed in seeds:\n",
    "    print(f\"▶ Running experiment {experiment} with seed={seed}\")\n",
    "    !python ./experiments/train_cosmology.py \\\n",
    "        --model       {model} \\\n",
    "        --data-path   {data_path} \\\n",
    "        --size        {size} \\\n",
    "        --num-epochs  {num_epochs} \\\n",
    "        --batch-size  {batch_size} \\\n",
    "        --experiment  {experiment} \\\n",
    "        --seed        {seed} \\\n",
    "        --embedt"
   ]
  },
  {
   "cell_type": "markdown",
   "metadata": {},
   "source": [
    "#### + InvMPNN (x_mv + x_s)"
   ]
  },
  {
   "cell_type": "markdown",
   "metadata": {},
   "source": [
    "We add an invariant MPNN (by passing as messages the distance (norm) of the points) and embed the values directly into the multivectors as scalars"
   ]
  },
  {
   "cell_type": "code",
   "execution_count": null,
   "metadata": {},
   "outputs": [],
   "source": [
    "model       = \"GATrErwin\"\n",
    "data_path   = \"./data/cosmology\"\n",
    "size        = \"smallest\"\n",
    "num_epochs  = 3000\n",
    "batch_size  = 4\n",
    "experiment  = \"TranslationEmbeddings_InvMPNN\"\n",
    "\n",
    "seeds = [0,1,2]\n",
    "for seed in seeds:\n",
    "    print(f\"▶ Running experiment {experiment} with seed={seed}\")\n",
    "    !python ./experiments/train_cosmology.py \\\n",
    "        --model       {model} \\\n",
    "        --data-path   {data_path} \\\n",
    "        --size        {size} \\\n",
    "        --num-epochs  {num_epochs} \\\n",
    "        --batch-size  {batch_size} \\\n",
    "        --experiment  {experiment} \\\n",
    "        --seed        {seed} \\\n",
    "        --embedt \\\n",
    "        --mpsteps 3 "
   ]
  },
  {
   "cell_type": "markdown",
   "metadata": {},
   "source": [
    "#### + InvMPNN (x_mv, x_s)"
   ]
  },
  {
   "cell_type": "markdown",
   "metadata": {},
   "source": [
    "We pass the features derived from the MPNN as auxiliary scalars that are hanled by the GATr equations"
   ]
  },
  {
   "cell_type": "code",
   "execution_count": null,
   "metadata": {},
   "outputs": [],
   "source": [
    "model       = \"GATrErwin\"\n",
    "data_path   = \"./data/cosmology\"\n",
    "size        = \"smallest\"\n",
    "num_epochs  = 3000\n",
    "batch_size  = 4\n",
    "experiment  = \"TranslationEmbeddings_InvMPNN_aux\"\n",
    "\n",
    "seeds = [0,1,2]\n",
    "for seed in seeds:\n",
    "    print(f\"▶ Running experiment {experiment} with seed={seed}\")\n",
    "    !python ./experiments/train_cosmology.py \\\n",
    "        --model       {model} \\\n",
    "        --data-path   {data_path} \\\n",
    "        --size        {size} \\\n",
    "        --num-epochs  {num_epochs} \\\n",
    "        --batch-size  {batch_size} \\\n",
    "        --experiment  {experiment} \\\n",
    "        --seed        {seed} \\\n",
    "        --embedt \\\n",
    "        --mpsteps 3 \\\n",
    "        --auxiliarympnn"
   ]
  },
  {
   "cell_type": "markdown",
   "metadata": {},
   "source": [
    "### Scaled "
   ]
  },
  {
   "cell_type": "markdown",
   "metadata": {},
   "source": [
    "After preliminary studies we explore with bigger architectures"
   ]
  },
  {
   "cell_type": "markdown",
   "metadata": {},
   "source": [
    "#### + InvMPNN"
   ]
  },
  {
   "cell_type": "markdown",
   "metadata": {},
   "source": [
    "The scaled version of the previous model"
   ]
  },
  {
   "cell_type": "code",
   "execution_count": null,
   "metadata": {},
   "outputs": [],
   "source": [
    "model       = \"GATrErwin\"\n",
    "data_path   = \"./data/cosmology\"\n",
    "size        = \"smaller\"\n",
    "num_epochs  = 3000\n",
    "batch_size  = 8\n",
    "experiment  = \"InvMPNN\"\n",
    "\n",
    "seeds = [0,1,2]\n",
    "for seed in seeds:\n",
    "    print(f\"▶ Running experiment {experiment} with seed={seed}\")\n",
    "    !python ./experiments/train_cosmology.py \\\n",
    "        --model       {model} \\\n",
    "        --data-path   {data_path} \\\n",
    "        --size        {size} \\\n",
    "        --num-epochs  {num_epochs} \\\n",
    "        --batch-size  {batch_size} \\\n",
    "        --experiment  {experiment} \\\n",
    "        --seed        {seed} \\\n",
    "        --embedt \\\n",
    "        --mpsteps 3 \\\n",
    "        --auxiliarympnn"
   ]
  },
  {
   "cell_type": "markdown",
   "metadata": {},
   "source": [
    "#### + RADMPNN"
   ]
  },
  {
   "cell_type": "markdown",
   "metadata": {},
   "source": [
    "We substitute the InvMPNN with a RADMPNN that use radial basis"
   ]
  },
  {
   "cell_type": "code",
   "execution_count": null,
   "metadata": {},
   "outputs": [],
   "source": [
    "model       = \"GATrErwin\"\n",
    "data_path   = \"./data/cosmology\"\n",
    "size        = \"smaller\"\n",
    "num_epochs  = 3000\n",
    "batch_size  = 8\n",
    "experiment  = \"RADMPNN\"\n",
    "\n",
    "seeds = [0,1,2]\n",
    "for seed in seeds:\n",
    "    print(f\"▶ Running experiment {experiment} with seed={seed}\")\n",
    "    !python ./experiments/train_cosmology.py \\\n",
    "        --model       {model} \\\n",
    "        --data-path   {data_path} \\\n",
    "        --size        {size} \\\n",
    "        --num-epochs  {num_epochs} \\\n",
    "        --batch-size  {batch_size} \\\n",
    "        --experiment  {experiment} \\\n",
    "        --seed        {seed} \\\n",
    "        --embedt \\\n",
    "        --mpsteps 3 \\\n",
    "        --auxiliarympnn \\\n",
    "        --rad"
   ]
  },
  {
   "cell_type": "markdown",
   "metadata": {},
   "source": [
    "#### + Rotating Tree"
   ]
  },
  {
   "cell_type": "markdown",
   "metadata": {},
   "source": [
    "We add the rotating tree to test how the model behaves when equivariance is broken even further"
   ]
  },
  {
   "cell_type": "code",
   "execution_count": null,
   "metadata": {},
   "outputs": [],
   "source": [
    "model       = \"GATrErwin\"\n",
    "data_path   = \"./data/cosmology\"\n",
    "size        = \"smaller\"\n",
    "num_epochs  = 3000\n",
    "batch_size  = 8\n",
    "experiment  = \"RADMPNN\"\n",
    "\n",
    "seeds = [0,1,2]\n",
    "for seed in seeds:\n",
    "    print(f\"▶ Running experiment {experiment} with seed={seed}\")\n",
    "    !python ./experiments/train_cosmology.py \\\n",
    "        --model       {model} \\\n",
    "        --data-path   {data_path} \\\n",
    "        --size        {size} \\\n",
    "        --num-epochs  {num_epochs} \\\n",
    "        --batch-size  {batch_size} \\\n",
    "        --experiment  {experiment} \\\n",
    "        --seed        {seed} \\\n",
    "        --embedt \\\n",
    "        --mpsteps 3 \\\n",
    "        --auxiliarympnn \\\n",
    "        --rad \\\n",
    "        --rotate 90"
   ]
  },
  {
   "cell_type": "markdown",
   "metadata": {},
   "source": [
    "# Analysis"
   ]
  },
  {
   "cell_type": "markdown",
   "metadata": {},
   "source": [
    "## MSE on test set with STDs"
   ]
  },
  {
   "cell_type": "markdown",
   "metadata": {},
   "source": [
    "These results are from wandb for ease of implementation. If you want to access the values you can do so by loading a model and then model.config[\"test/avg/loss\"]"
   ]
  },
  {
   "cell_type": "code",
   "execution_count": null,
   "metadata": {},
   "outputs": [],
   "source": [
    "mse_results = '''GATrErwin_base_smallest\t0.9928033947944641\n",
    "GATrErwin_smallest\t0.8001278042793274\n",
    "GATrErwin_smallest\t0.7979423403739929\n",
    "GATrErwin__TranslationEmbeddings\t0.7704880237579346\n",
    "GATrErwin_smallest_TranslationEmbeddings\t0.7564467191696167\n",
    "GATrErwin_smallest_TranslationEmbeddings\t0.7481858730316162\n",
    "GATrErwin_smallest_TranslationEmbeddings_InvMPNN\t0.7777851819992065\n",
    "GATrErwin_smallest_TranslationEmbeddings_InvMPNN\t0.7677752375602722\n",
    "GATrErwin_smallest_TranslationEmbeddings_InvMPNN\t0.7372809648513794\n",
    "GATrErwin_smallest_TranslationEmbeddings_InvMPNN_aux\t0.7653530240058899\n",
    "GATrErwin_smallest_TranslationEmbeddings_InvMPNN_aux\t0.7588619589805603\n",
    "GATrErwin_smallest_TranslationEmbeddings_InvMPNN_aux\t0.7145655155181885\n",
    "erwin_smaller\t0.8128928542137146\n",
    "erwin_smaller\t0.8074730634689331\n",
    "erwin_smaller\t0.8050450086593628\n",
    "erwin_smaller_MPNN\t0.6752330660820007\n",
    "erwin_smaller_MPNN\t0.6693339347839355\n",
    "erwin_smaller_MPNN\t0.6643597483634949\n",
    "erwin_smaller_MPNN_RotatingTree\t0.6745660305023193\n",
    "erwin_smaller_MPNN_RotatingTree\t0.669159471988678\n",
    "erwin_smaller_MPNN_RotatingTree\t0.6640904545783997\n",
    "GATrErwin_smaller_RADMPNN_RotatingTree\t0.73168\n",
    "GATrErwin_smaller_RADMPNN_RotatingTree\t0.68463\n",
    "GATrErwin_smaller_RADMPNN_RotatingTree\t0.68193\n",
    "GATrErwin_smaller_InvMPNN\t0.70393\n",
    "GATrErwin_smaller_InvMPNN\t0.67656\n",
    "GATrErwin_smaller_InvMPNN\t0.76836\n",
    "GATrErwin_smaller_RADMPNN\t0.6788\n",
    "GATrErwin_smaller_RADMPNN\t0.6733\n",
    "GATrErwin_smaller_RADMPNN\t0.66264\n",
    "erwin_inv_eq9\t0.6422716975212097\n",
    "erwin_inv_eq9\t0.6361907124519348\n",
    "erwin_inv_eq9_eq12\t0.6291858553886414\n",
    "erwin_InvMPNN\t0.6284287571907043\n",
    "erwin_InvMPNN\t0.6252619028091431\n",
    "erwin_inv_eq9_eq12\t0.6240667700767517\n",
    "erwin_inv_eq9_eq12_eq13\t0.6221941113471985\n",
    "erwin_InvMPNN\t0.6221827268600464\n",
    "erwin_inv_eq9_eq12_eq13\t0.6203093528747559\n",
    "erwin_inv_eq9_eq12_eq13\t0.6194301843643188\n",
    "GATrErwin_smaller_rad_ds64\t0.723919985294342\n",
    "GATrErwin_smaller_rad_ds2048\t0.7816210389137268\n",
    "GATrErwin_smaller_rad_ds64\t0.7065693958282471\n",
    "GATrErwin_smaller_rad_ds512\t0.7281964421272278\n",
    "GATrErwin_smaller_rad_ds64\t0.7274014949798584\n",
    "GATrErwin_smaller_rad_ds2048\t0.7205493450164795\n",
    "GATrErwin_smaller_rad_ds512\t0.7081652879714966\n",
    "GATrErwin_smaller_rad_ds2048\t0.7074275612831116\n",
    "GATrErwin_smaller_rad_ds512\t0.6792658567428589\n",
    "erwin_MPNN_RotatingTree_smallish\t0.6104522347450256\n",
    "erwin_MPNN_RotatingTree_smallish\t0.609225869178772\n",
    "erwin_MPNN_RotatingTree_smallish\t0.6086004972457886'''"
   ]
  },
  {
   "cell_type": "code",
   "execution_count": null,
   "metadata": {},
   "outputs": [],
   "source": [
    "import pandas as pd\n",
    "from analysis.utils import get_mse_results\n",
    "\n",
    "df = get_mse_results(mse_results)\n",
    "df.to_csv('mse_results.csv')\n",
    "print(df.to_latex(index=False))"
   ]
  },
  {
   "cell_type": "markdown",
   "metadata": {},
   "source": [
    "## Invariance Error Erwin"
   ]
  },
  {
   "cell_type": "markdown",
   "metadata": {},
   "source": [
    "We calculate the invariance error of any version of erwin, you can choose which one specifically by changing /analysis/invariance_error.py"
   ]
  },
  {
   "cell_type": "code",
   "execution_count": null,
   "metadata": {},
   "outputs": [],
   "source": [
    "!python analysis/invariance_error.py"
   ]
  },
  {
   "cell_type": "code",
   "execution_count": null,
   "metadata": {},
   "outputs": [],
   "source": [
    "from analysis.utils import get_avg_error_results\n",
    "import json\n",
    "\n",
    "with open(\"inv_res.json\", \"r\", encoding=\"utf-8\") as f:\n",
    "    inv_res = json.load(f)\n",
    "\n",
    "inv_avg_res = get_avg_error_results(inv_res)\n",
    "\n",
    "with open(\"inv_avg_res.json\", \"w\", encoding=\"utf-8\") as f:\n",
    "    json.dump(inv_avg_res, f, ensure_ascii=False, indent=2)\n",
    "print(inv_avg_res)"
   ]
  },
  {
   "cell_type": "markdown",
   "metadata": {},
   "source": [
    "## Equivariance Error GATrErwin"
   ]
  },
  {
   "cell_type": "markdown",
   "metadata": {},
   "source": [
    "We calculate the equivariance error of any version of GATrErwin, you can choose which one specifically by changing /analysis/equivariance_error.py"
   ]
  },
  {
   "cell_type": "code",
   "execution_count": null,
   "metadata": {},
   "outputs": [],
   "source": [
    "!python analysis/equivariance_error.py"
   ]
  },
  {
   "cell_type": "code",
   "execution_count": null,
   "metadata": {},
   "outputs": [],
   "source": [
    "with open(\"equi_res.json\", \"r\", encoding=\"utf-8\") as f:\n",
    "    equi_res = json.load(f)\n",
    "\n",
    "equi_avg_res = get_avg_error_results(equi_res)\n",
    "\n",
    "with open(\"inv_avg_res.json\", \"w\", encoding=\"utf-8\") as f:\n",
    "    json.dump(equi_avg_res, f, ensure_ascii=False, indent=2)\n",
    "print(equi_avg_res)"
   ]
  },
  {
   "cell_type": "markdown",
   "metadata": {},
   "source": [
    "## Check performance on rotated dataset"
   ]
  },
  {
   "cell_type": "markdown",
   "metadata": {},
   "source": [
    "We calculate the performance of GATrErwin on rotated dataset, you can choose which one specifically by changing /analysis/test_on_rotated_data.py"
   ]
  },
  {
   "cell_type": "code",
   "execution_count": null,
   "metadata": {},
   "outputs": [],
   "source": [
    "!python ./analysis/test_on_rotated_data.py"
   ]
  },
  {
   "cell_type": "code",
   "execution_count": null,
   "metadata": {},
   "outputs": [],
   "source": [
    "with open(\"rot_mse.json\", \"r\", encoding=\"utf-8\") as f:\n",
    "    rot_mse = json.load(f)\n",
    "\n",
    "rot_avg_mse = get_avg_error_results(rot_mse)\n",
    "\n",
    "with open(\"rot_avg_mse.json\", \"w\", encoding=\"utf-8\") as f:\n",
    "    json.dump(rot_avg_mse, f, ensure_ascii=False, indent=2)\n",
    "print(rot_avg_mse)"
   ]
  }
 ],
 "metadata": {
  "kernelspec": {
   "display_name": "erwin",
   "language": "python",
   "name": "python3"
  },
  "language_info": {
   "codemirror_mode": {
    "name": "ipython",
    "version": 3
   },
   "file_extension": ".py",
   "mimetype": "text/x-python",
   "name": "python",
   "nbconvert_exporter": "python",
   "pygments_lexer": "ipython3",
   "version": "3.11.11"
  }
 },
 "nbformat": 4,
 "nbformat_minor": 2
}
